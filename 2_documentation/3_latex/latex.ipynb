{
 "cells": [
  {
   "cell_type": "markdown",
   "id": "85236ce0-cf6b-406a-a5e7-3584bb912fe2",
   "metadata": {},
   "source": [
    "# Basics of LaTeX\n",
    "\n",
    "To type pretty math expressions, you only need to wrap LaTeX commands with dollar signs.  \n",
    "\n",
    "Single dollar signs give inline expressions, like this: $x^2$.\n",
    "\n",
    "Double dollar signs give expressions in display mode, like this:\n",
    "$$f(x) = x^2.$$\n",
    "\n",
    "Next are a bunch of examples of what we can do. Just double-click on the cell to enter the editing mode and see the LaTeX command that generated the output you are seeing."
   ]
  },
  {
   "cell_type": "markdown",
   "id": "069bef79-1b72-4c06-88a3-d3b38d0f3cab",
   "metadata": {},
   "source": [
    "### Sub-scripts and sup-scripts: \n",
    "* $x^2$\n",
    "* $x_1$\n",
    "* $2^{12}$\n",
    "* $x_{ij}$\n"
   ]
  },
  {
   "cell_type": "markdown",
   "id": "350e82ec-ccdb-457b-8fe3-5a3ed45912d1",
   "metadata": {},
   "source": [
    "### Equations and inequalities\n",
    "* $x_1 + x_2 \\leq 1$\n",
    "* $x \\geq 0$\n",
    "* $x_1 < x_2$\n",
    "* $x > 0$\n",
    "* $x = 3$\n",
    "\n",
    "`\\leq` is for *lesser than or equal to*  \n",
    "`\\geq` is for *greater than or equal to*\n",
    "\n",
    "$$x_{ij} \\geq 0, \\quad \\forall i\\in I, \\forall j\\in J.$$\n",
    "\n",
    "`\\quad` is for an extra blank space\n",
    "\n",
    "$$y = \\min_{i\\in I}{x_1}$$\n",
    "\n",
    "$$5 = \\max{\\{2, 3, 5\\}}$$"
   ]
  },
  {
   "cell_type": "markdown",
   "id": "698e72c5-7424-4174-8550-b9fbac415bbf",
   "metadata": {},
   "source": [
    "### Fractions\n",
    "Small fraction: $\\frac{a}{b}$. Large (display mode) fraction: $\\dfrac{a}{b}$.\n",
    "\n",
    "$$$$"
   ]
  },
  {
   "cell_type": "markdown",
   "id": "e580f39d-c024-4c7d-86ea-f3e60b77840c",
   "metadata": {},
   "source": [
    "### Summations\n",
    "$$\\sum_i x_i = 1$$\n",
    "\n",
    "$$\\sum_{i=1}^{10} x_i \\leq 1$$"
   ]
  },
  {
   "cell_type": "markdown",
   "id": "71ee7f59-89e5-4455-87e3-2ab9d48b26ee",
   "metadata": {},
   "source": [
    "### Limits, Derivatives, and Integrals\n",
    "$$f'(x) = \\lim_{h\\rightarrow 0}\\frac{f(x+h)-f(x)}{h}$$\n",
    "\n",
    "$$f(x) = x^2 \\Rightarrow \\frac{f(x)}{\\partial x} = f'(x) = 2x$$\n",
    "\n",
    "$$F(x, y) = x^2y^2 \\Rightarrow \\frac{\\partial F(x, y)}{\\partial y} = 2x^2y$$\n",
    "\n",
    "$$\\int_{0}^{10} x^2 dx = \\left. \\frac{x^3}{3} \\right|_{0}^{10}=\\frac{10^3}{3}$$\n",
    "\n",
    "$$\\iint f(x, y) dxdy$$"
   ]
  },
  {
   "cell_type": "markdown",
   "id": "67992768-c064-4030-b2e9-335131601222",
   "metadata": {},
   "source": [
    "### Functions\n",
    "* $\\sqrt{x}$\n",
    "* $\\sqrt[3]{8} = 8^{\\frac{1}{3}}= 2$\n",
    "* $\\sin^2(\\theta) + \\cos^2(\\theta) = 1$\n",
    "* $\\log(x^2)=2\\log(x)$\n",
    "* $\\ln(x^2)=2\\ln(x)$"
   ]
  },
  {
   "cell_type": "markdown",
   "id": "e78d2174-fb91-4da0-9cf9-a623da602af4",
   "metadata": {},
   "source": [
    "### Common symbols\n",
    "* $\\mathbb{N}, \\mathbb{Z}, \\mathbb{R}$\n",
    "* $\\mathbb{R}_+ = \\{x \\in \\mathbb{R}| x \\geq 0\\}$\n",
    "* $x \\in \\mathbb{N}, x\\geq 0 \\Rightarrow x \\in \\mathbb{N}_+$"
   ]
  },
  {
   "cell_type": "markdown",
   "id": "b7726e8a-2374-463e-97f4-79f559efe341",
   "metadata": {},
   "source": [
    "### Matrices\n",
    "$$\n",
    "\\begin{matrix}\n",
    "1 & 2 & 3\\\\\n",
    "4 & 5 & 6\n",
    "\\end{matrix} =\n",
    "\\begin{pmatrix}\n",
    "1 & 2 & 3\\\\\n",
    "4 & 5 & 6\n",
    "\\end{pmatrix} =\n",
    "\\begin{bmatrix}\n",
    "1 & 2 & 3\\\\\n",
    "4 & 5 & 6\n",
    "\\end{bmatrix}\n",
    "$$"
   ]
  },
  {
   "cell_type": "markdown",
   "id": "131695f9-9bd3-4d2e-9ef3-13092cad0542",
   "metadata": {},
   "source": [
    "### Optimization\n",
    "Using *eqnarray*:\n",
    "$$\n",
    "\\begin{eqnarray*}\n",
    "\\begin{array}{rcl}\n",
    "& \\min & \\sum_i c_{ij}x_{ij}\\\\\n",
    "& \\text{s.t.}& \\sum_i p_{i}x_{ij} \\geq d_j, \\quad \\forall j,\\\\\n",
    "&& \\sum_j x_{ij} = 1, \\quad \\forall i,\\\\\n",
    "&& x_{ij} \\geq 0, \\quad \\forall i, j.\n",
    "\\end{array}\n",
    "\\end{eqnarray*}\n",
    "$$\n",
    "\n",
    "Using *align*:\n",
    "$$\n",
    "\\begin{align*}\n",
    "w &\\geq l_yx + l_xy - l_xl_y\\\\\n",
    "w &\\geq u_yx + u_xy - u_xu_y\\\\\n",
    "w &\\leq l_yx + u_xy - u_xl_y\\\\\n",
    "w &\\leq u_yx + l_xy - l_xu_y.\n",
    "\\end{align*}\n",
    "$$\n",
    "\n",
    "**Note**: Without the asterisk next to the keyword *eqnarray*, the expression might get numbered depending on where the file is being rendered. It happens on GitHub, for example. With *align*, all equations might get numbered, i.e., one number per line."
   ]
  },
  {
   "cell_type": "markdown",
   "id": "56fe28ef-535c-44f8-8011-e8da962dd661",
   "metadata": {},
   "source": [
    "### Other Examples\n",
    "$$f(x) = \\frac{1}{\\sqrt{2\\sigma^2\\pi}} e^{-\\frac{(x-\\mu)^2}{2\\sigma^2}}$$\n",
    "\n",
    "$$E(X)=\\sum_i(x_i - P(x_i))$$\n",
    "\n",
    "$$\n",
    "f(x) = \n",
    "\\begin{cases}\n",
    "0 & \\text{if} \\ x \\leq 0,\\\\\n",
    "x^2 & \\text{if} \\ 0 < x \\leq 1,\\\\\n",
    "x & \\text{if} \\ 1 < x \\leq 10,\\\\\n",
    "+\\infty & \\text{otherwise}. \n",
    "\\end{cases}\n",
    "$$"
   ]
  },
  {
   "cell_type": "markdown",
   "id": "f1d9e288-65ad-4214-baa6-0adebb972195",
   "metadata": {},
   "source": [
    "### Didn't find what you need?\n",
    "If you are looking for a specific symbol, try drawing it on the [Detexify](https://detexify.kirelabs.org/classify.html) website.\n",
    "\n",
    "Also, if you find some other interesting commands, you can test and save them in this notebook. Then, when you go back to Pycharm, you can make a commit. This way, your changes will be available for your own future reference, even on the clouds. "
   ]
  }
 ],
 "metadata": {
  "kernelspec": {
   "display_name": "Python 3 (ipykernel)",
   "language": "python",
   "name": "python3"
  },
  "language_info": {
   "codemirror_mode": {
    "name": "ipython",
    "version": 3
   },
   "file_extension": ".py",
   "mimetype": "text/x-python",
   "name": "python",
   "nbconvert_exporter": "python",
   "pygments_lexer": "ipython3",
   "version": "3.9.5"
  }
 },
 "nbformat": 4,
 "nbformat_minor": 5
}
