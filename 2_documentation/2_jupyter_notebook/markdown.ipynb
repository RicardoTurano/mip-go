{
 "cells": [
  {
   "cell_type": "markdown",
   "id": "85236ce0-cf6b-406a-a5e7-3584bb912fe2",
   "metadata": {},
   "source": [
    "# Markdown\n",
    "\n",
    "Markdown is a formatting syntax that uses only plain text which then can be \n",
    "converted to beautiful HTML documents. \n",
    "The formatting is surprisingly simple (easy to write and read) and yet there \n",
    "is so much we can do with it. \n",
    "\n",
    "Here is a short list of what can be done: \n",
    "- basic formatting such as italic and boldface\n",
    "- create sections and subsections\n",
    "- bullet lists\n",
    "- table\n",
    "- insert links and figures.\n",
    "\n",
    "Markdown became so popular that it’s now standard and is compiled automatically\n",
    "in many places. For instance, we can use Markdown on GitHub, Jupyter Notebooks \n",
    "(where it can even be mixed up with LaTeX to type math expressions), \n",
    "and README files like we did right here to make \n",
    "the whole content of the Mip Go program available to you!\n",
    "\n",
    "Below is a list of example of things we can with Markdown."
   ]
  },
  {
   "cell_type": "markdown",
   "id": "6b3de4c2-9dc3-41fd-aaa8-9f3847fbe827",
   "metadata": {},
   "source": [
    "# Sections Level 1\n",
    "Success is a feeling, there is no finishing line -- *Simon Sinek*.\n",
    "\n",
    "## Sections Level 2\n",
    "It's our decisions, not the conditions of our lives, that determine our destiny -- *Tony Robbins*\n",
    "\n",
    "### Sections Level 3\n",
    "Vision without execution is hallucination -- *Thomas Edison*"
   ]
  },
  {
   "cell_type": "markdown",
   "id": "31158e92-0a41-4f0f-80f3-20009b1cb6e4",
   "metadata": {},
   "source": [
    "## Emphasis ##\n",
    "Whether you think **you can** or you think **you can't**, you are **right** -- *Henry Ford*"
   ]
  },
  {
   "cell_type": "markdown",
   "id": "6f857403-1452-4fc4-91f2-e4863bbbffac",
   "metadata": {},
   "source": [
    "## Lists ##\n",
    "To make an impact:\n",
    "1. Decide what you want\n",
    "3. Take action\n",
    "4. Notice what's working or not\n",
    "5. Change your approach until it works\n",
    "\n",
    "However, it takes:\n",
    "* Clarity\n",
    "* Determination\n",
    "* Focus\n",
    "* Resilience\n",
    "\n",
    "Type of analytics:\n",
    "- **Descriptive** \n",
    "\n",
    "    Understanding how the system has behaved historically\n",
    "\n",
    "- **Predictive**\n",
    "\n",
    "    Anticipating how the system will behave in the future\n",
    "\n",
    "- **Prescriptive:** \n",
    "\n",
    "    Recommending actions to improve the future behavior of the system"
   ]
  },
  {
   "cell_type": "markdown",
   "id": "aec83a77-477e-4f2d-a8c7-35f449e5c808",
   "metadata": {},
   "source": [
    "## Links\n",
    "\n",
    "### Motivations\n",
    "Have you ever heard about [The Celery Test](https://www.youtube.com/watch?v=k_8gZnpKuLI)? \n",
    "If not, follow the link to watch a 4-minutes video and get inspired about making \n",
    "important decisions--or committing to the decisions you have already made.\n",
    "\n",
    "### Resources\n",
    "The www.markdownguide.org website is a great resource for learning Markdown.\n",
    "They have lots of examples, recommendation for best practices, and even cheatsheet.\n",
    "\n",
    "You can learn a lot more about Markdown by visiting the webpage of the \n",
    "[Markdown Project](https://daringfireball.net/projects/markdown/) itself.\n",
    "\n",
    "### Mip Go\n",
    "Don't know how to find Mip Go on the web?  \n",
    "Follow [this link][mip_go] to see in on the Mip Wise website.  \n",
    "Or follow [this link][mip_go_github] for its repository on GitHub .\n",
    "\n",
    "[mip_go_github]: https://github.com/mipwise/mip-go\n",
    "[mip_go]: https://mipwise.com/mip-go"
   ]
  },
  {
   "cell_type": "markdown",
   "id": "0f2ff14e-29c2-492f-bbb3-792e9a1bb185",
   "metadata": {},
   "source": [
    "## Images\n",
    "\n",
    "![D-Wise](../1_markdown/dwise.png)"
   ]
  },
  {
   "cell_type": "markdown",
   "id": "3ae4dbae-cee2-4cf2-afdf-3e4765701b6f",
   "metadata": {},
   "source": [
    "## Code\n",
    "Let `f` be a function that takes three arguments, `a`, `b`, and `c`, and returns their sum:\n",
    "\n",
    "    def f(a, b, c):\n",
    "        return a + b + c\n",
    "\n",
    "If `+` was a regular addition operator, then, `f(1, 2, 3)` would return `6`, of course.\n",
    "But depending on how you define `+`, here is what you can get:\n",
    "\n",
    "    purpose = f(skills, interests, passion)\n",
    "\n",
    "You can use a dictionary to save the input arguments, so you don't forget about them:\n",
    "```\n",
    "input = {\n",
    "    a: skills,\n",
    "    b: interests,\n",
    "    c: passion}\n",
    "```"
   ]
  },
  {
   "cell_type": "markdown",
   "id": "beb149fc-7330-48cf-821a-ba42ee961f6a",
   "metadata": {},
   "source": [
    "## Tables\n",
    "\n",
    "| **Argument** | **Value** |\n",
    "|:------------:|-----------|\n",
    "|      a       | skills    |\n",
    "|      b       | interests |\n",
    "|      c       | passion   |\n"
   ]
  }
 ],
 "metadata": {
  "kernelspec": {
   "display_name": "Python 3",
   "language": "python",
   "name": "python3"
  },
  "language_info": {
   "codemirror_mode": {
    "name": "ipython",
    "version": 3
   },
   "file_extension": ".py",
   "mimetype": "text/x-python",
   "name": "python",
   "nbconvert_exporter": "python",
   "pygments_lexer": "ipython3",
   "version": "3.6.9"
  }
 },
 "nbformat": 4,
 "nbformat_minor": 5
}
